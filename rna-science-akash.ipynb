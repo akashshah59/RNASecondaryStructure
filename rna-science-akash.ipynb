{
 "cells": [
  {
   "cell_type": "markdown",
   "id": "575b997b",
   "metadata": {
    "papermill": {
     "duration": 0.004218,
     "end_time": "2023-10-09T21:13:47.704130",
     "exception": false,
     "start_time": "2023-10-09T21:13:47.699912",
     "status": "completed"
    },
    "tags": []
   },
   "source": [
    "# Setting up an RNA Science Environment"
   ]
  },
  {
   "cell_type": "markdown",
   "id": "1fb890e6",
   "metadata": {
    "papermill": {
     "duration": 0.003326,
     "end_time": "2023-10-09T21:13:47.713542",
     "exception": false,
     "start_time": "2023-10-09T21:13:47.710216",
     "status": "completed"
    },
    "tags": []
   },
   "source": [
    "The computational biology field has a lot of helpful software packages for interacting with RNA sequences and experimental data. First, let's install `arnie`, a helpful utility library that simplifies interacting with various secondary structure prediction packages."
   ]
  },
  {
   "cell_type": "markdown",
   "id": "7b541317",
   "metadata": {
    "papermill": {
     "duration": 0.00312,
     "end_time": "2023-10-09T21:13:47.720660",
     "exception": false,
     "start_time": "2023-10-09T21:13:47.717540",
     "status": "completed"
    },
    "tags": []
   },
   "source": [
    "### Best paper to help orient with the current landscape of RNA modeling\n",
    "\n",
    "https://www.nature.com/articles/s41467-021-21194-4#:~:text=Accurate%20predictions%20of%20RNA%20secondary,for%20such%20highly%20parameterized%20models."
   ]
  },
  {
   "cell_type": "code",
   "execution_count": 1,
   "id": "e4bea76a",
   "metadata": {
    "execution": {
     "iopub.execute_input": "2023-10-09T21:13:47.730025Z",
     "iopub.status.busy": "2023-10-09T21:13:47.729271Z",
     "iopub.status.idle": "2023-10-09T21:13:52.961379Z",
     "shell.execute_reply": "2023-10-09T21:13:52.960254Z"
    },
    "papermill": {
     "duration": 5.239914,
     "end_time": "2023-10-09T21:13:52.963947",
     "exception": false,
     "start_time": "2023-10-09T21:13:47.724033",
     "status": "completed"
    },
    "tags": []
   },
   "outputs": [],
   "source": [
    "import torch\n",
    "from torch.utils.data import random_split\n",
    "\n",
    "import pandas as pd\n",
    "from pathlib import Path\n",
    "import numpy as np\n",
    "from sklearn.preprocessing import OneHotEncoder,LabelEncoder\n",
    "import re\n",
    "from tqdm import tqdm"
   ]
  },
  {
   "cell_type": "code",
   "execution_count": 2,
   "id": "c8355662",
   "metadata": {
    "execution": {
     "iopub.execute_input": "2023-10-09T21:13:52.974813Z",
     "iopub.status.busy": "2023-10-09T21:13:52.974247Z",
     "iopub.status.idle": "2023-10-09T21:13:52.979136Z",
     "shell.execute_reply": "2023-10-09T21:13:52.978278Z"
    },
    "papermill": {
     "duration": 0.012916,
     "end_time": "2023-10-09T21:13:52.981043",
     "exception": false,
     "start_time": "2023-10-09T21:13:52.968127",
     "status": "completed"
    },
    "tags": []
   },
   "outputs": [],
   "source": [
    "DATA_DIR = Path(\"/kaggle/input/stanford-ribonanza-rna-folding/\")\n",
    "TRAIN_CSV = DATA_DIR / \"train_data.csv\"\n",
    "TRAIN_PARQUET_FILE = \"train_data.parquet\"\n",
    "TEST_CSV = DATA_DIR / \"test_sequences.csv\"\n",
    "TEST_PARQUET_FILE = \"test_sequences.parquet\"\n",
    "PRED_CSV = \"submission.csv\""
   ]
  },
  {
   "cell_type": "code",
   "execution_count": 3,
   "id": "cc1f84a0",
   "metadata": {
    "execution": {
     "iopub.execute_input": "2023-10-09T21:13:52.991165Z",
     "iopub.status.busy": "2023-10-09T21:13:52.990058Z",
     "iopub.status.idle": "2023-10-09T21:13:52.996442Z",
     "shell.execute_reply": "2023-10-09T21:13:52.995469Z"
    },
    "papermill": {
     "duration": 0.013526,
     "end_time": "2023-10-09T21:13:52.998586",
     "exception": false,
     "start_time": "2023-10-09T21:13:52.985060",
     "status": "completed"
    },
    "tags": []
   },
   "outputs": [],
   "source": [
    "def to_parquet(csv_file, parquet_file):\n",
    "    dummy_df = pl.scan_csv(csv_file)\n",
    "\n",
    "    new_schema = {}\n",
    "    for key, value in dummy_df.schema.items():\n",
    "        if key.startswith(\"reactivity\"):\n",
    "            new_schema[key] = pl.Float32\n",
    "        else:\n",
    "            new_schema[key] = value\n",
    "\n",
    "    df = pl.scan_csv(csv_file, schema=new_schema)\n",
    "    \n",
    "    df.sink_parquet(\n",
    "            parquet_file,\n",
    "            compression='uncompressed',\n",
    "            row_group_size=10,\n",
    "    )\n",
    "    \n",
    "#to_parquet(TRAIN_CSV, TRAIN_PARQUET_FILE)\n",
    "#to_parquet(TEST_CSV, TEST_PARQUET_FILE)"
   ]
  },
  {
   "cell_type": "code",
   "execution_count": 4,
   "id": "4775e9c3",
   "metadata": {
    "execution": {
     "iopub.execute_input": "2023-10-09T21:13:53.008027Z",
     "iopub.status.busy": "2023-10-09T21:13:53.007367Z",
     "iopub.status.idle": "2023-10-09T21:15:48.488408Z",
     "shell.execute_reply": "2023-10-09T21:15:48.487018Z"
    },
    "papermill": {
     "duration": 115.488919,
     "end_time": "2023-10-09T21:15:48.491298",
     "exception": false,
     "start_time": "2023-10-09T21:13:53.002379",
     "status": "completed"
    },
    "tags": []
   },
   "outputs": [],
   "source": [
    "inputs_length = 457\n",
    "targets_length = 177\n",
    "\n",
    "train_df = pd.read_csv(TRAIN_CSV,nrows = 200000)\n",
    "\n",
    "inputs = np.empty((train_df.shape[0],inputs_length))\n",
    "targets = np.zeros((train_df.shape[0],inputs_length))\n",
    "\n",
    "react_list = []\n",
    "react_err_list = []\n",
    "\n",
    "for i,k in enumerate(train_df.keys()):\n",
    "    if 'reactivity' in k and 'error' not in k:\n",
    "        react_list.append(i)\n",
    "    elif 'reactivity_error' in k:\n",
    "        react_err_list.append(i)\n",
    "        \n",
    "for i,row in train_df.iterrows():\n",
    "    try:\n",
    "        r = np.array(row[react_list].values).astype('float')\n",
    "\n",
    "        # get sequence\n",
    "        seq = row.sequence.replace('A', '1').replace('G', '2').replace('U', '3').replace('C', '4')\n",
    "        seq = np.array([*seq]).astype('int')\n",
    "\n",
    "        # store input values\n",
    "        input = np.zeros(inputs_length).astype('int')\n",
    "        input[:len(seq)] = seq\n",
    "\n",
    "        # store target values\n",
    "        target = np.zeros(inputs_length).astype('int')\n",
    "        target[:len(r)] = np.nan_to_num(r).astype('int')\n",
    "        \n",
    "        inputs[i] = input\n",
    "        targets[i] = target\n",
    "    except ValueError as e:\n",
    "        print(i,e)"
   ]
  },
  {
   "cell_type": "code",
   "execution_count": 5,
   "id": "8affc1a6",
   "metadata": {
    "execution": {
     "iopub.execute_input": "2023-10-09T21:15:48.501231Z",
     "iopub.status.busy": "2023-10-09T21:15:48.500804Z",
     "iopub.status.idle": "2023-10-09T21:15:49.049838Z",
     "shell.execute_reply": "2023-10-09T21:15:49.048605Z"
    },
    "papermill": {
     "duration": 0.557154,
     "end_time": "2023-10-09T21:15:49.052573",
     "exception": false,
     "start_time": "2023-10-09T21:15:48.495419",
     "status": "completed"
    },
    "tags": []
   },
   "outputs": [],
   "source": [
    "from sklearn.linear_model import Ridge\n",
    "from sklearn.ensemble import RandomForestRegressor\n",
    "from sklearn.metrics import mean_absolute_error\n",
    "from sklearn.model_selection import train_test_split\n",
    "\n",
    "ridge = Ridge()"
   ]
  },
  {
   "cell_type": "code",
   "execution_count": 6,
   "id": "bee7b90e",
   "metadata": {
    "execution": {
     "iopub.execute_input": "2023-10-09T21:15:49.062031Z",
     "iopub.status.busy": "2023-10-09T21:15:49.061645Z",
     "iopub.status.idle": "2023-10-09T21:15:50.103072Z",
     "shell.execute_reply": "2023-10-09T21:15:50.102092Z"
    },
    "papermill": {
     "duration": 1.04922,
     "end_time": "2023-10-09T21:15:50.105786",
     "exception": false,
     "start_time": "2023-10-09T21:15:49.056566",
     "status": "completed"
    },
    "tags": []
   },
   "outputs": [],
   "source": [
    "train_x,val_x,train_y,val_y = train_test_split(inputs,targets)"
   ]
  },
  {
   "cell_type": "code",
   "execution_count": 7,
   "id": "17a0d28f",
   "metadata": {
    "execution": {
     "iopub.execute_input": "2023-10-09T21:15:50.115351Z",
     "iopub.status.busy": "2023-10-09T21:15:50.114936Z",
     "iopub.status.idle": "2023-10-09T21:15:53.564426Z",
     "shell.execute_reply": "2023-10-09T21:15:53.553640Z"
    },
    "papermill": {
     "duration": 3.460901,
     "end_time": "2023-10-09T21:15:53.570596",
     "exception": false,
     "start_time": "2023-10-09T21:15:50.109695",
     "status": "completed"
    },
    "tags": []
   },
   "outputs": [
    {
     "name": "stdout",
     "output_type": "stream",
     "text": [
      "CPU times: user 8.05 s, sys: 1.43 s, total: 9.48 s\n",
      "Wall time: 3.36 s\n"
     ]
    },
    {
     "data": {
      "text/html": [
       "<style>#sk-container-id-1 {color: black;background-color: white;}#sk-container-id-1 pre{padding: 0;}#sk-container-id-1 div.sk-toggleable {background-color: white;}#sk-container-id-1 label.sk-toggleable__label {cursor: pointer;display: block;width: 100%;margin-bottom: 0;padding: 0.3em;box-sizing: border-box;text-align: center;}#sk-container-id-1 label.sk-toggleable__label-arrow:before {content: \"▸\";float: left;margin-right: 0.25em;color: #696969;}#sk-container-id-1 label.sk-toggleable__label-arrow:hover:before {color: black;}#sk-container-id-1 div.sk-estimator:hover label.sk-toggleable__label-arrow:before {color: black;}#sk-container-id-1 div.sk-toggleable__content {max-height: 0;max-width: 0;overflow: hidden;text-align: left;background-color: #f0f8ff;}#sk-container-id-1 div.sk-toggleable__content pre {margin: 0.2em;color: black;border-radius: 0.25em;background-color: #f0f8ff;}#sk-container-id-1 input.sk-toggleable__control:checked~div.sk-toggleable__content {max-height: 200px;max-width: 100%;overflow: auto;}#sk-container-id-1 input.sk-toggleable__control:checked~label.sk-toggleable__label-arrow:before {content: \"▾\";}#sk-container-id-1 div.sk-estimator input.sk-toggleable__control:checked~label.sk-toggleable__label {background-color: #d4ebff;}#sk-container-id-1 div.sk-label input.sk-toggleable__control:checked~label.sk-toggleable__label {background-color: #d4ebff;}#sk-container-id-1 input.sk-hidden--visually {border: 0;clip: rect(1px 1px 1px 1px);clip: rect(1px, 1px, 1px, 1px);height: 1px;margin: -1px;overflow: hidden;padding: 0;position: absolute;width: 1px;}#sk-container-id-1 div.sk-estimator {font-family: monospace;background-color: #f0f8ff;border: 1px dotted black;border-radius: 0.25em;box-sizing: border-box;margin-bottom: 0.5em;}#sk-container-id-1 div.sk-estimator:hover {background-color: #d4ebff;}#sk-container-id-1 div.sk-parallel-item::after {content: \"\";width: 100%;border-bottom: 1px solid gray;flex-grow: 1;}#sk-container-id-1 div.sk-label:hover label.sk-toggleable__label {background-color: #d4ebff;}#sk-container-id-1 div.sk-serial::before {content: \"\";position: absolute;border-left: 1px solid gray;box-sizing: border-box;top: 0;bottom: 0;left: 50%;z-index: 0;}#sk-container-id-1 div.sk-serial {display: flex;flex-direction: column;align-items: center;background-color: white;padding-right: 0.2em;padding-left: 0.2em;position: relative;}#sk-container-id-1 div.sk-item {position: relative;z-index: 1;}#sk-container-id-1 div.sk-parallel {display: flex;align-items: stretch;justify-content: center;background-color: white;position: relative;}#sk-container-id-1 div.sk-item::before, #sk-container-id-1 div.sk-parallel-item::before {content: \"\";position: absolute;border-left: 1px solid gray;box-sizing: border-box;top: 0;bottom: 0;left: 50%;z-index: -1;}#sk-container-id-1 div.sk-parallel-item {display: flex;flex-direction: column;z-index: 1;position: relative;background-color: white;}#sk-container-id-1 div.sk-parallel-item:first-child::after {align-self: flex-end;width: 50%;}#sk-container-id-1 div.sk-parallel-item:last-child::after {align-self: flex-start;width: 50%;}#sk-container-id-1 div.sk-parallel-item:only-child::after {width: 0;}#sk-container-id-1 div.sk-dashed-wrapped {border: 1px dashed gray;margin: 0 0.4em 0.5em 0.4em;box-sizing: border-box;padding-bottom: 0.4em;background-color: white;}#sk-container-id-1 div.sk-label label {font-family: monospace;font-weight: bold;display: inline-block;line-height: 1.2em;}#sk-container-id-1 div.sk-label-container {text-align: center;}#sk-container-id-1 div.sk-container {/* jupyter's `normalize.less` sets `[hidden] { display: none; }` but bootstrap.min.css set `[hidden] { display: none !important; }` so we also need the `!important` here to be able to override the default hidden behavior on the sphinx rendered scikit-learn.org. See: https://github.com/scikit-learn/scikit-learn/issues/21755 */display: inline-block !important;position: relative;}#sk-container-id-1 div.sk-text-repr-fallback {display: none;}</style><div id=\"sk-container-id-1\" class=\"sk-top-container\"><div class=\"sk-text-repr-fallback\"><pre>Ridge()</pre><b>In a Jupyter environment, please rerun this cell to show the HTML representation or trust the notebook. <br />On GitHub, the HTML representation is unable to render, please try loading this page with nbviewer.org.</b></div><div class=\"sk-container\" hidden><div class=\"sk-item\"><div class=\"sk-estimator sk-toggleable\"><input class=\"sk-toggleable__control sk-hidden--visually\" id=\"sk-estimator-id-1\" type=\"checkbox\" checked><label for=\"sk-estimator-id-1\" class=\"sk-toggleable__label sk-toggleable__label-arrow\">Ridge</label><div class=\"sk-toggleable__content\"><pre>Ridge()</pre></div></div></div></div></div>"
      ],
      "text/plain": [
       "Ridge()"
      ]
     },
     "execution_count": 7,
     "metadata": {},
     "output_type": "execute_result"
    }
   ],
   "source": [
    "%%time\n",
    "\n",
    "ridge.fit(train_x,train_y)"
   ]
  },
  {
   "cell_type": "code",
   "execution_count": 8,
   "id": "8c84d600",
   "metadata": {
    "execution": {
     "iopub.execute_input": "2023-10-09T21:15:53.600952Z",
     "iopub.status.busy": "2023-10-09T21:15:53.600454Z",
     "iopub.status.idle": "2023-10-09T21:16:02.446129Z",
     "shell.execute_reply": "2023-10-09T21:16:02.444802Z"
    },
    "papermill": {
     "duration": 8.854476,
     "end_time": "2023-10-09T21:16:02.449025",
     "exception": false,
     "start_time": "2023-10-09T21:15:53.594549",
     "status": "completed"
    },
    "tags": []
   },
   "outputs": [],
   "source": [
    "test_df = pd.read_csv(TEST_CSV)"
   ]
  },
  {
   "cell_type": "markdown",
   "id": "bdb89a81",
   "metadata": {
    "papermill": {
     "duration": 0.003721,
     "end_time": "2023-10-09T21:16:02.457123",
     "exception": false,
     "start_time": "2023-10-09T21:16:02.453402",
     "status": "completed"
    },
    "tags": []
   },
   "source": [
    "### Create submissions file. "
   ]
  },
  {
   "cell_type": "code",
   "execution_count": 9,
   "id": "c75acb39",
   "metadata": {
    "execution": {
     "iopub.execute_input": "2023-10-09T21:16:02.467310Z",
     "iopub.status.busy": "2023-10-09T21:16:02.466523Z",
     "iopub.status.idle": "2023-10-09T21:16:02.483785Z",
     "shell.execute_reply": "2023-10-09T21:16:02.482619Z"
    },
    "papermill": {
     "duration": 0.025007,
     "end_time": "2023-10-09T21:16:02.485984",
     "exception": false,
     "start_time": "2023-10-09T21:16:02.460977",
     "status": "completed"
    },
    "tags": []
   },
   "outputs": [
    {
     "data": {
      "text/html": [
       "<div>\n",
       "<style scoped>\n",
       "    .dataframe tbody tr th:only-of-type {\n",
       "        vertical-align: middle;\n",
       "    }\n",
       "\n",
       "    .dataframe tbody tr th {\n",
       "        vertical-align: top;\n",
       "    }\n",
       "\n",
       "    .dataframe thead th {\n",
       "        text-align: right;\n",
       "    }\n",
       "</style>\n",
       "<table border=\"1\" class=\"dataframe\">\n",
       "  <thead>\n",
       "    <tr style=\"text-align: right;\">\n",
       "      <th></th>\n",
       "      <th>id_min</th>\n",
       "      <th>id_max</th>\n",
       "      <th>sequence_id</th>\n",
       "      <th>sequence</th>\n",
       "      <th>future</th>\n",
       "    </tr>\n",
       "  </thead>\n",
       "  <tbody>\n",
       "    <tr>\n",
       "      <th>0</th>\n",
       "      <td>0</td>\n",
       "      <td>176</td>\n",
       "      <td>eee73c1836bc</td>\n",
       "      <td>GGGAACGACUCGAGUAGAGUCGAAAAUUUCCUUCCAAAUCCUGAGG...</td>\n",
       "      <td>0</td>\n",
       "    </tr>\n",
       "    <tr>\n",
       "      <th>1</th>\n",
       "      <td>177</td>\n",
       "      <td>353</td>\n",
       "      <td>d2a929af7a97</td>\n",
       "      <td>GGGAACGACUCGAGUAGAGUCGAAAAUGUAAUCAGAUUGCUUCUCC...</td>\n",
       "      <td>0</td>\n",
       "    </tr>\n",
       "    <tr>\n",
       "      <th>2</th>\n",
       "      <td>354</td>\n",
       "      <td>530</td>\n",
       "      <td>d39a4425ff45</td>\n",
       "      <td>GGGAACGACUCGAGUAGAGUCGAAAAAACACAUGAAUUUGAGGGUU...</td>\n",
       "      <td>0</td>\n",
       "    </tr>\n",
       "    <tr>\n",
       "      <th>3</th>\n",
       "      <td>531</td>\n",
       "      <td>707</td>\n",
       "      <td>1fc41e92d553</td>\n",
       "      <td>GGGAACGACUCGAGUAGAGUCGAAAAUCAGAGCUGGCAAAUGGAUG...</td>\n",
       "      <td>0</td>\n",
       "    </tr>\n",
       "    <tr>\n",
       "      <th>4</th>\n",
       "      <td>708</td>\n",
       "      <td>884</td>\n",
       "      <td>1d0826fb892f</td>\n",
       "      <td>GGGAACGACUCGAGUAGAGUCGAAAAUUUGGUAUUUGAUGCAUUAA...</td>\n",
       "      <td>0</td>\n",
       "    </tr>\n",
       "  </tbody>\n",
       "</table>\n",
       "</div>"
      ],
      "text/plain": [
       "   id_min  id_max   sequence_id  \\\n",
       "0       0     176  eee73c1836bc   \n",
       "1     177     353  d2a929af7a97   \n",
       "2     354     530  d39a4425ff45   \n",
       "3     531     707  1fc41e92d553   \n",
       "4     708     884  1d0826fb892f   \n",
       "\n",
       "                                            sequence  future  \n",
       "0  GGGAACGACUCGAGUAGAGUCGAAAAUUUCCUUCCAAAUCCUGAGG...       0  \n",
       "1  GGGAACGACUCGAGUAGAGUCGAAAAUGUAAUCAGAUUGCUUCUCC...       0  \n",
       "2  GGGAACGACUCGAGUAGAGUCGAAAAAACACAUGAAUUUGAGGGUU...       0  \n",
       "3  GGGAACGACUCGAGUAGAGUCGAAAAUCAGAGCUGGCAAAUGGAUG...       0  \n",
       "4  GGGAACGACUCGAGUAGAGUCGAAAAUUUGGUAUUUGAUGCAUUAA...       0  "
      ]
     },
     "execution_count": 9,
     "metadata": {},
     "output_type": "execute_result"
    }
   ],
   "source": [
    "test_df.head()"
   ]
  },
  {
   "cell_type": "code",
   "execution_count": 10,
   "id": "8f2e15f8",
   "metadata": {
    "execution": {
     "iopub.execute_input": "2023-10-09T21:16:02.497517Z",
     "iopub.status.busy": "2023-10-09T21:16:02.497102Z",
     "iopub.status.idle": "2023-10-09T21:16:04.614878Z",
     "shell.execute_reply": "2023-10-09T21:16:04.613165Z"
    },
    "papermill": {
     "duration": 2.127342,
     "end_time": "2023-10-09T21:16:04.617949",
     "exception": false,
     "start_time": "2023-10-09T21:16:02.490607",
     "status": "completed"
    },
    "tags": []
   },
   "outputs": [
    {
     "name": "stdout",
     "output_type": "stream",
     "text": [
      "1079.186684\n"
     ]
    }
   ],
   "source": [
    "N = 269796671\n",
    "df_submit = pd.DataFrame(index = range(N))\n",
    "df_submit.index.name = 'id'\n",
    "df_submit['reactivity_DMS_MaP'] = np.zeros( N, dtype = np.float16 )\n",
    "df_submit['reactivity_2A3_MaP'] = np.zeros( N, dtype = np.float16 )\n",
    "print(df_submit.values.nbytes/1e6 )"
   ]
  },
  {
   "cell_type": "code",
   "execution_count": 11,
   "id": "922c578a",
   "metadata": {
    "execution": {
     "iopub.execute_input": "2023-10-09T21:16:04.632205Z",
     "iopub.status.busy": "2023-10-09T21:16:04.631499Z",
     "iopub.status.idle": "2023-10-09T21:16:04.638601Z",
     "shell.execute_reply": "2023-10-09T21:16:04.637499Z"
    },
    "papermill": {
     "duration": 0.017825,
     "end_time": "2023-10-09T21:16:04.643637",
     "exception": false,
     "start_time": "2023-10-09T21:16:04.625812",
     "status": "completed"
    },
    "tags": []
   },
   "outputs": [
    {
     "data": {
      "text/plain": [
       "(1343823, 5)"
      ]
     },
     "execution_count": 11,
     "metadata": {},
     "output_type": "execute_result"
    }
   ],
   "source": [
    "test_df.shape"
   ]
  },
  {
   "cell_type": "code",
   "execution_count": 12,
   "id": "b31cd715",
   "metadata": {
    "execution": {
     "iopub.execute_input": "2023-10-09T21:16:04.658625Z",
     "iopub.status.busy": "2023-10-09T21:16:04.658228Z",
     "iopub.status.idle": "2023-10-09T21:49:58.753025Z",
     "shell.execute_reply": "2023-10-09T21:49:58.748787Z"
    },
    "papermill": {
     "duration": 2034.116558,
     "end_time": "2023-10-09T21:49:58.768546",
     "exception": false,
     "start_time": "2023-10-09T21:16:04.651988",
     "status": "completed"
    },
    "tags": []
   },
   "outputs": [
    {
     "name": "stderr",
     "output_type": "stream",
     "text": [
      "100%|██████████| 14/14 [33:54<00:00, 145.29s/it]\n"
     ]
    }
   ],
   "source": [
    "inputs_length = 457\n",
    "chunk_size = 100000\n",
    "\n",
    "test_inputs = np.empty((test_df.shape[0],inputs_length))\n",
    "        \n",
    "for j in tqdm(range(0,len(test_df),100000)):\n",
    "    chunk_df = test_df.iloc[j:j+chunk_size]\n",
    "    for i,row in chunk_df.iterrows():\n",
    "        try:\n",
    "            # get sequence\n",
    "            seq = row.sequence.replace('A', '1').replace('G', '2').replace('U', '3').replace('C', '4')\n",
    "            seq = np.array([*seq]).astype('int')\n",
    "            \n",
    "            # store input values\n",
    "            input = np.zeros(inputs_length).astype('int')\n",
    "            input[:len(seq)] = seq\n",
    "\n",
    "            preds = ridge.predict(input.reshape(1,-1))[0,:(row['id_max']-row['id_min']+1)]\n",
    "            df_submit.loc[row['id_min']:(row['id_max']),'reactivity_DMS_MaP'] = preds\n",
    "            df_submit.loc[row['id_min']:(row['id_max']),'reactivity_2A3_MaP'] = preds\n",
    "        except ValueError as e:\n",
    "            print(i,e)"
   ]
  },
  {
   "cell_type": "code",
   "execution_count": 13,
   "id": "3e92c497",
   "metadata": {
    "execution": {
     "iopub.execute_input": "2023-10-09T21:49:58.808220Z",
     "iopub.status.busy": "2023-10-09T21:49:58.805810Z",
     "iopub.status.idle": "2023-10-09T22:05:23.132209Z",
     "shell.execute_reply": "2023-10-09T22:05:23.131100Z"
    },
    "papermill": {
     "duration": 924.351404,
     "end_time": "2023-10-09T22:05:23.135419",
     "exception": false,
     "start_time": "2023-10-09T21:49:58.784015",
     "status": "completed"
    },
    "tags": []
   },
   "outputs": [],
   "source": [
    "df_submit.to_csv('submissions.csv')"
   ]
  }
 ],
 "metadata": {
  "kernelspec": {
   "display_name": "Python 3",
   "language": "python",
   "name": "python3"
  },
  "language_info": {
   "codemirror_mode": {
    "name": "ipython",
    "version": 3
   },
   "file_extension": ".py",
   "mimetype": "text/x-python",
   "name": "python",
   "nbconvert_exporter": "python",
   "pygments_lexer": "ipython3",
   "version": "3.10.12"
  },
  "papermill": {
   "default_parameters": {},
   "duration": 3101.398555,
   "end_time": "2023-10-09T22:05:25.771505",
   "environment_variables": {},
   "exception": null,
   "input_path": "__notebook__.ipynb",
   "output_path": "__notebook__.ipynb",
   "parameters": {},
   "start_time": "2023-10-09T21:13:44.372950",
   "version": "2.4.0"
  }
 },
 "nbformat": 4,
 "nbformat_minor": 5
}
